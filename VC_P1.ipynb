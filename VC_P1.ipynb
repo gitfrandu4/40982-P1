{
 "cells": [
  {
   "cell_type": "markdown",
   "metadata": {},
   "source": [
    "# Práctica 1: Primeros pasos con OpenCV"
   ]
  },
  {
   "cell_type": "markdown",
   "metadata": {},
   "source": [
    "Paquetes necesarios"
   ]
  },
  {
   "cell_type": "code",
   "execution_count": 1,
   "metadata": {},
   "outputs": [],
   "source": [
    "import cv2  \n",
    "import numpy as np\n",
    "import matplotlib.pyplot as plt"
   ]
  },
  {
   "cell_type": "markdown",
   "metadata": {},
   "source": [
    "## TAREA 1: Crea una imagen, p.e. de 800x800 píxeles, con la textura del tablero de ajedrez"
   ]
  },
  {
   "cell_type": "code",
   "execution_count": null,
   "metadata": {},
   "outputs": [],
   "source": []
  },
  {
   "cell_type": "markdown",
   "metadata": {},
   "source": [
    "## TAREA 2: Crear una imagen estilo Mondrian"
   ]
  },
  {
   "cell_type": "code",
   "execution_count": 3,
   "metadata": {},
   "outputs": [
    {
     "data": {
      "image/png": "[encoded data removed]",
      "text/plain": [
       "<Figure size 640x480 with 1 Axes>"
      ]
     },
     "metadata": {},
     "output_type": "display_data"
    }
   ],
   "source": [
    "width = 800\n",
    "height = 600\n",
    "\n",
    "n_channels = 3\n",
    "\n",
    "rectangle_size = 200\n",
    "\n",
    "# Create a blank image with three channels\n",
    "mondrian_img = np.zeros((height,width,n_channels), dtype = np.uint8)\n",
    "\n",
    "# We can also set the color of the image by setting the values of the pixels in each channel\n",
    "blue = (0,0,255)\n",
    "red = (255,0,0)\n",
    "white = (255,255,255)\n",
    "yellow = (255,255,0)\n",
    "black = (0,0,0)\n",
    "\n",
    "mondrian_rectangles = [\n",
    "    [(0, 0, 200, 200, yellow),\n",
    "     (200, 0, 400, 200, blue),\n",
    "     (400, 0, 800, 200, white)],\n",
    "    [(0, 200, 300, 400, red),\n",
    "     (300, 200, 800, 400, yellow)],\n",
    "    [(0, 400, 800, 550, blue)],\n",
    "    [(0, 550, 100, 600, white)],\n",
    "    [(100, 550, 600, 600, yellow)],\n",
    "    [(600, 550, 800, 600, red)]\n",
    "]\n",
    "\n",
    "thickness = 30\n",
    "\n",
    "for row in mondrian_rectangles:\n",
    "    for rect in row:\n",
    "        cv2.rectangle(mondrian_img, (rect[0], rect[1]), (rect[2], rect[3]), black, thickness)\n",
    "        cv2.rectangle(mondrian_img, (rect[0], rect[1]), (rect[2], rect[3]), rect[4], -1)\n",
    "\n",
    "plt.imshow(mondrian_img) \n",
    "plt.axis('off')\n",
    "plt.show()"
   ]
  },
  {
   "cell_type": "markdown",
   "metadata": {},
   "source": [
    "## TAREA 3: Utilización de las funciones de dibujo de OpenCV"
   ]
  },
  {
   "cell_type": "code",
   "execution_count": null,
   "metadata": {},
   "outputs": [],
   "source": []
  },
  {
   "cell_type": "markdown",
   "metadata": {},
   "source": [
    "## TAREA 4: Modifica de forma libre los valores de un plano de la imagen"
   ]
  },
  {
   "cell_type": "code",
   "execution_count": null,
   "metadata": {},
   "outputs": [],
   "source": []
  },
  {
   "cell_type": "markdown",
   "metadata": {},
   "source": [
    "## TAREA 5: Pintar círculos en las posiciones del píxel más claro y oscuro de la imagen "
   ]
  },
  {
   "cell_type": "code",
   "execution_count": null,
   "metadata": {},
   "outputs": [],
   "source": []
  },
  {
   "cell_type": "markdown",
   "metadata": {},
   "source": [
    "## TAREA 6: Elaboración de una propuesta pop art utilizando la entrada de la cámara web o vídeo"
   ]
  },
  {
   "cell_type": "code",
   "execution_count": null,
   "metadata": {},
   "outputs": [],
   "source": []
  }
 ],
 "metadata": {
  "kernelspec": {
   "display_name": "Python 3.7.3 ('FACES')",
   "language": "python",
   "name": "python3"
  },
  "language_info": {
   "codemirror_mode": {
    "name": "ipython",
    "version": 3
   },
   "file_extension": ".py",
   "mimetype": "text/x-python",
   "name": "python",
   "nbconvert_exporter": "python",
   "pygments_lexer": "ipython3",
   "version": "3.11.5"
  },
  "orig_nbformat": 4,
  "vscode": {
   "interpreter": {
    "hash": "ea3a1ee99ce326e593ddb52cd278556d527fcb6552c40e2a47b1efb9d0183637"
   }
  }
 },
 "nbformat": 4,
 "nbformat_minor": 2
}
